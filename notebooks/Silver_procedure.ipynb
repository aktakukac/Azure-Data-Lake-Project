{
 "cells": [
  {
   "cell_type": "code",
   "execution_count": 0,
   "metadata": {
    "application/vnd.databricks.v1+cell": {
     "cellMetadata": {
      "byteLimit": 2048000,
      "rowLimit": 10000
     },
     "inputWidgets": {},
     "nuid": "f55a6a9c-9836-43da-9248-fcdf6c228021",
     "showTitle": false,
     "tableResultSettingsMap": {},
     "title": ""
    }
   },
   "outputs": [],
   "source": [
    "from pyspark.sql.functions import col, date_format, min, max, unix_timestamp, datediff\n",
    "\n",
    "from pyspark.sql import functions as f\n",
    "from pyspark.sql.types import StringType"
   ]
  },
  {
   "cell_type": "code",
   "execution_count": 0,
   "metadata": {
    "application/vnd.databricks.v1+cell": {
     "cellMetadata": {
      "byteLimit": 2048000,
      "rowLimit": 10000
     },
     "inputWidgets": {},
     "nuid": "86b9f266-db41-47e7-9b9b-c981235e7c20",
     "showTitle": false,
     "tableResultSettingsMap": {},
     "title": ""
    }
   },
   "outputs": [],
   "source": [
    "# define names\n",
    "delta_names = [\"payments\", \"riders\", \"stations\", \"trips\"]"
   ]
  },
  {
   "cell_type": "code",
   "execution_count": 0,
   "metadata": {
    "application/vnd.databricks.v1+cell": {
     "cellMetadata": {
      "byteLimit": 2048000,
      "rowLimit": 10000
     },
     "inputWidgets": {},
     "nuid": "29a5b6e4-5de4-4e44-a2d9-5dcc8f557914",
     "showTitle": false,
     "tableResultSettingsMap": {},
     "title": ""
    }
   },
   "outputs": [],
   "source": [
    "# read delta files into dataframes\n",
    "for name in delta_names:\n",
    "    globals()[f\"df_{name}\"] = spark.read.format(\"delta\") \\\n",
    "        .load(f\"/FileStore/delta/bronze/bronze_{name}\")"
   ]
  },
  {
   "cell_type": "code",
   "execution_count": 0,
   "metadata": {
    "application/vnd.databricks.v1+cell": {
     "cellMetadata": {
      "byteLimit": 2048000,
      "rowLimit": 10000
     },
     "inputWidgets": {},
     "nuid": "2ae47e66-ff02-4cce-b602-e4bd336cca6f",
     "showTitle": false,
     "tableResultSettingsMap": {},
     "title": ""
    }
   },
   "outputs": [],
   "source": [
    "# manipulation of df_payments\n",
    "\n",
    "# create date_id string\n",
    "df_payments = df_payments.withColumnRenamed(\"date\", \"date_id\") \\\n",
    "                         .withColumn(\"date_id\", date_format(col(\"date_id\"), \"yyyyMMdd\"))\n",
    "\n",
    "df_payments.createOrReplaceTempView(f\"temp_payments\")\n"
   ]
  },
  {
   "cell_type": "code",
   "execution_count": 0,
   "metadata": {
    "application/vnd.databricks.v1+cell": {
     "cellMetadata": {
      "byteLimit": 2048000,
      "rowLimit": 10000
     },
     "inputWidgets": {},
     "nuid": "c78d611e-0e63-411e-8de4-44297204654f",
     "showTitle": false,
     "tableResultSettingsMap": {},
     "title": ""
    }
   },
   "outputs": [],
   "source": [
    "# manipulation of df_rider\n",
    "\n",
    "df_riders = df_riders.withColumnRenamed(\"first\", \"rider_firstname\") \\\n",
    "        .withColumnRenamed(\"last\", \"rider_lastname\") \\\n",
    "        .withColumnRenamed(\"address\", \"rider_address\") \\\n",
    "        .withColumnRenamed(\"birthday\", \"rider_birthday\") \\\n",
    "        .withColumnRenamed(\"account_start_date\", \"rider_account_start\") \\\n",
    "        .withColumnRenamed(\"account_end_date\", \"rider_account_end\") \\\n",
    "        .withColumnRenamed(\"is_member\", \"rider_member\")\n",
    "\n",
    "df_riders.createOrReplaceTempView(f\"temp_riders\")"
   ]
  },
  {
   "cell_type": "code",
   "execution_count": 0,
   "metadata": {
    "application/vnd.databricks.v1+cell": {
     "cellMetadata": {
      "byteLimit": 2048000,
      "rowLimit": 10000
     },
     "inputWidgets": {},
     "nuid": "60f000fc-6bc3-4a52-bfeb-a00a3995949c",
     "showTitle": false,
     "tableResultSettingsMap": {},
     "title": ""
    }
   },
   "outputs": [],
   "source": [
    "# manipulation of df_stations\n",
    "\n",
    "df_stations = df_stations.withColumnRenamed(\"name\", \"station_name\") \\\n",
    "        .withColumnRenamed(\"latitude\", \"station_latitude\") \\\n",
    "        .withColumnRenamed(\"longitude\", \"station_longitude\")\n",
    "\n",
    "df_stations.createOrReplaceTempView(f\"temp_stations\")"
   ]
  },
  {
   "cell_type": "code",
   "execution_count": 0,
   "metadata": {
    "application/vnd.databricks.v1+cell": {
     "cellMetadata": {
      "byteLimit": 2048000,
      "rowLimit": 10000
     },
     "inputWidgets": {},
     "nuid": "170506f5-262c-4f6f-bbc4-477a2882e65d",
     "showTitle": false,
     "tableResultSettingsMap": {},
     "title": ""
    }
   },
   "outputs": [],
   "source": [
    "# manipulation of df_trips\n",
    "\n",
    "# minimum and maximum date\n",
    "min_date = df_trips.select(min(\"started_at\")).collect()[0][0]\n",
    "max_date = df_trips.select(max(\"started_at\")).collect()[0][0]\n",
    "\n",
    "df_trips = df_trips.withColumn(\"date_id\", date_format(col(\"started_at\"), \"yyyyMMdd\")) \\\n",
    "        .withColumnRenamed(\"rideable_type\", \"trip_rideable_type\") \\\n",
    "        .withColumnRenamed(\"started_at\", \"trip_start\") \\\n",
    "        .withColumnRenamed(\"ended_at\", \"trip_end\") \\\n",
    "        .withColumn(\"trip_duration\", \n",
    "                               (unix_timestamp(col(\"trip_end\")) - unix_timestamp(col(\"trip_start\"))) / 60)\n",
    " # join rider\n",
    "df_trips = df_trips.join(df_riders.select(\"rider_id\", \"rider_birthday\"), \"rider_id\")  \n",
    "\n",
    "# Add trip_rider_age column\n",
    "df_trips = df_trips.withColumn(\"trip_rider_age\", \n",
    "                               datediff(col(\"trip_start\"), col(\"rider_birthday\")) / 365)\n",
    "\n",
    "df_trips = df_trips.select(\"trip_id\"\n",
    "                             , \"date_id\"\n",
    "                             , \"rider_id\"\n",
    "                             , \"start_station_id\"\n",
    "                             , \"end_station_id\"\n",
    "                             , \"trip_start\"\n",
    "                             , \"trip_end\"\n",
    "                             , \"trip_duration\"\n",
    "                             , \"trip_rider_age\"\n",
    "                             , \"trip_rideable_type\")\n",
    "\n",
    "df_trips.createOrReplaceTempView(f\"temp_trips\")\n"
   ]
  },
  {
   "cell_type": "code",
   "execution_count": 0,
   "metadata": {
    "application/vnd.databricks.v1+cell": {
     "cellMetadata": {
      "byteLimit": 2048000,
      "rowLimit": 10000
     },
     "inputWidgets": {},
     "nuid": "4b8248e8-ab9e-4963-95a1-8afc02aea099",
     "showTitle": false,
     "tableResultSettingsMap": {},
     "title": ""
    }
   },
   "outputs": [],
   "source": [
    "# create date table\n",
    "\n",
    "expression = f\"sequence(to_date('{min_date}'), to_date('{max_date}'), interval 1 day)\"\n",
    "\n",
    "df_dates = spark.createDataFrame([(1,)], [\"time_id\"])\n",
    "\n",
    "df_dates = df_dates.withColumn(\"date_date\", f.explode(f.expr(expression)))\n",
    "df_dates = df_dates.withColumn(\"date\", f.to_timestamp(df_dates.date_date, \"yyyy-MM-dd\"))\n",
    "\n",
    "df_dates = df_dates \\\n",
    "            .withColumn(\"date_day\", f.day(df_dates.date_date)) \\\n",
    "            .withColumn(\"date_month\", f.month(df_dates.date_date)) \\\n",
    "            .withColumn(\"date_year\", f.year(df_dates.date_date)) \\\n",
    "\n",
    "df_dates = df_dates \\\n",
    "            .withColumn(\"date_id\", date_format(col(\"date\"), \"yyyyMMdd\")) \\\n",
    "            .drop(\"date\")\n",
    "\n",
    "df_dates = df_dates.select(\"date_id\"\n",
    "                             , \"date_date\"\n",
    "                             , \"date_day\"\n",
    "                             , \"date_month\"\n",
    "                             , \"date_year\")\n",
    "\n",
    "df_dates.createOrReplaceTempView(f\"temp_dates\")"
   ]
  },
  {
   "cell_type": "code",
   "execution_count": 0,
   "metadata": {
    "application/vnd.databricks.v1+cell": {
     "cellMetadata": {
      "byteLimit": 2048000,
      "rowLimit": 10000
     },
     "inputWidgets": {},
     "nuid": "e3fea5c4-f744-4c39-b31f-58717d369aaa",
     "showTitle": false,
     "tableResultSettingsMap": {},
     "title": ""
    }
   },
   "outputs": [],
   "source": [
    "delta_names.append(\"dates\")"
   ]
  },
  {
   "cell_type": "code",
   "execution_count": 0,
   "metadata": {
    "application/vnd.databricks.v1+cell": {
     "cellMetadata": {
      "byteLimit": 2048000,
      "rowLimit": 10000
     },
     "inputWidgets": {},
     "nuid": "daa44c9a-f0a1-4d19-9371-81a50bf9454d",
     "showTitle": false,
     "tableResultSettingsMap": {},
     "title": ""
    }
   },
   "outputs": [],
   "source": [
    "# save dataframes as delta using spark SQL\n",
    "for name in delta_names:\n",
    "    spark.sql(f\"DROP TABLE IF EXISTS silver_{name}\")\n",
    "    spark.sql(f\"\"\"\n",
    "        CREATE OR REPLACE TABLE silver_{name} \n",
    "        USING DELTA \n",
    "        LOCATION '/FileStore/delta/silver/silver_{name}'\n",
    "        AS\n",
    "        SELECT * FROM temp_{name}\n",
    "    \"\"\")"
   ]
  }
 ],
 "metadata": {
  "application/vnd.databricks.v1+notebook": {
   "computePreferences": null,
   "dashboards": [],
   "environmentMetadata": {
    "base_environment": "",
    "environment_version": "2"
   },
   "inputWidgetPreferences": null,
   "language": "python",
   "notebookMetadata": {
    "pythonIndentUnit": 4
   },
   "notebookName": "Silver_procedure",
   "widgets": {}
  },
  "language_info": {
   "name": "python"
  }
 },
 "nbformat": 4,
 "nbformat_minor": 0
}