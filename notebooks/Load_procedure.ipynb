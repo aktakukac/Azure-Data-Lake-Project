{
 "cells": [
  {
   "cell_type": "code",
   "execution_count": 0,
   "metadata": {
    "application/vnd.databricks.v1+cell": {
     "cellMetadata": {
      "byteLimit": 2048000,
      "rowLimit": 10000
     },
     "inputWidgets": {},
     "nuid": "3048f069-7146-4c10-9957-207a881d2ff1",
     "showTitle": false,
     "tableResultSettingsMap": {},
     "title": ""
    }
   },
   "outputs": [],
   "source": [
    "# define csv names\n",
    "csv_names = [\"payments\", \"riders\", \"stations\", \"trips\"]"
   ]
  },
  {
   "cell_type": "code",
   "execution_count": 0,
   "metadata": {
    "application/vnd.databricks.v1+cell": {
     "cellMetadata": {
      "byteLimit": 2048000,
      "rowLimit": 10000
     },
     "inputWidgets": {},
     "nuid": "ca480ada-2908-4ecb-85c3-975bc9167a97",
     "showTitle": false,
     "tableResultSettingsMap": {},
     "title": ""
    }
   },
   "outputs": [],
   "source": [
    "# read csv files into dataframes\n",
    "for name in csv_names:\n",
    "    globals()[f\"df_{name}\"] = spark.read.format(\"csv\") \\\n",
    "        .option(\"inferSchema\", \"true\") \\\n",
    "        .option(\"header\", \"false\") \\\n",
    "        .option(\"sep\", \",\") \\\n",
    "        .load(f\"/FileStore/data/{name}.csv\")\n",
    "\n"
   ]
  },
  {
   "cell_type": "code",
   "execution_count": 0,
   "metadata": {
    "application/vnd.databricks.v1+cell": {
     "cellMetadata": {
      "byteLimit": 2048000,
      "rowLimit": 10000
     },
     "inputWidgets": {},
     "nuid": "1db78be9-c5bd-49aa-8c76-da447b4d9c6c",
     "showTitle": false,
     "tableResultSettingsMap": {},
     "title": ""
    }
   },
   "outputs": [],
   "source": [
    "# field names for source files\n",
    "\n",
    "field_names = [\n",
    "    [\"payment_id\",\n",
    "    \"date\",\n",
    "    \"amount\",\n",
    "    \"rider_id\"],\n",
    "    [\"rider_id\",\n",
    "    \"first\",\n",
    "    \"last\",\n",
    "    \"address\",\n",
    "    \"birthday\",\n",
    "    \"account_start_date\",\n",
    "    \"account_end_date\",\n",
    "    \"is_member\"],\n",
    "    [\"station_id\",\n",
    "     \"name\",\n",
    "     \"latitude\",\n",
    "     \"longitude\"],\n",
    "    [\"trip_id\",\n",
    "     \"rideable_type\", \n",
    "     \"started_at\", \n",
    "     \"ended_at\", \n",
    "     \"start_station_id\", \n",
    "     \"end_station_id\",\n",
    "     \"rider_id\"]    \n",
    "]\n",
    "\n"
   ]
  },
  {
   "cell_type": "code",
   "execution_count": 0,
   "metadata": {
    "application/vnd.databricks.v1+cell": {
     "cellMetadata": {
      "byteLimit": 2048000,
      "rowLimit": 10000
     },
     "inputWidgets": {},
     "nuid": "c79ff8b6-a810-420e-a5c4-185d71e118f9",
     "showTitle": false,
     "tableResultSettingsMap": {},
     "title": ""
    }
   },
   "outputs": [],
   "source": [
    "# rename fields\n",
    "for name, field in zip(csv_names, field_names):\n",
    "    globals()[f\"df_{name}\"] = globals()[f\"df_{name}\"].toDF(*field)\n",
    "    globals()[f\"df_{name}\"].createOrReplaceTempView(f\"temp_{name}\")\n"
   ]
  },
  {
   "cell_type": "code",
   "execution_count": 0,
   "metadata": {
    "application/vnd.databricks.v1+cell": {
     "cellMetadata": {
      "byteLimit": 2048000,
      "rowLimit": 10000
     },
     "inputWidgets": {},
     "nuid": "551250a9-4eff-424d-8856-264e746c41e1",
     "showTitle": false,
     "tableResultSettingsMap": {},
     "title": ""
    }
   },
   "outputs": [],
   "source": [
    "# save dataframes as delta using spark SQL\n",
    "for name in csv_names:\n",
    "    spark.sql(f\"DROP TABLE IF EXISTS bronze_{name}\")\n",
    "    spark.sql(f\"\"\"\n",
    "        CREATE OR REPLACE TABLE bronze_{name} \n",
    "        USING DELTA \n",
    "        LOCATION '/FileStore/delta/bronze/bronze_{name}'\n",
    "        AS\n",
    "        SELECT * FROM temp_{name}\n",
    "    \"\"\")"
   ]
  }
 ],
 "metadata": {
  "application/vnd.databricks.v1+notebook": {
   "computePreferences": null,
   "dashboards": [],
   "environmentMetadata": {
    "base_environment": "",
    "environment_version": "2"
   },
   "inputWidgetPreferences": null,
   "language": "python",
   "notebookMetadata": {
    "mostRecentlyExecutedCommandWithImplicitDF": {
     "commandId": 5891346808119010,
     "dataframes": [
      "_sqldf"
     ]
    },
    "pythonIndentUnit": 4
   },
   "notebookName": "Load_procedure",
   "widgets": {}
  },
  "language_info": {
   "name": "python"
  }
 },
 "nbformat": 4,
 "nbformat_minor": 0
}